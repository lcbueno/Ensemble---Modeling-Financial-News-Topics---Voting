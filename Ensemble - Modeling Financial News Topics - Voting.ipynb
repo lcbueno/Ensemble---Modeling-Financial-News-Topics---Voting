{
 "cells": [
  {
   "cell_type": "code",
   "execution_count": null,
   "id": "4d371b8b",
   "metadata": {},
   "outputs": [],
   "source": [
    "# Vamos utilizar o algoritmo VoltClassifier para classificação final."
   ]
  },
  {
   "cell_type": "code",
   "execution_count": 7,
   "id": "05266b5d",
   "metadata": {},
   "outputs": [
    {
     "name": "stderr",
     "output_type": "stream",
     "text": [
      "[nltk_data] Downloading package stopwords to\n",
      "[nltk_data]     /Users/luizbueno/nltk_data...\n",
      "[nltk_data]   Unzipping corpora/stopwords.zip.\n"
     ]
    },
    {
     "data": {
      "text/plain": [
       "True"
      ]
     },
     "execution_count": 7,
     "metadata": {},
     "output_type": "execute_result"
    }
   ],
   "source": [
    "nltk.download('stopwords')"
   ]
  },
  {
   "cell_type": "code",
   "execution_count": 1,
   "id": "b0180f50",
   "metadata": {},
   "outputs": [],
   "source": [
    "# Imports\n",
    "import numpy as np\n",
    "from nltk.corpus import stopwords\n",
    "from sklearn.datasets import load_files\n",
    "from sklearn.feature_extraction.text import TfidfVectorizer\n",
    "from sklearn.model_selection import train_test_split\n",
    "from sklearn.linear_model import LogisticRegression\n",
    "from sklearn.naive_bayes import MultinomialNB\n",
    "from sklearn.ensemble import RandomForestClassifier, VotingClassifier\n",
    "from sklearn.metrics import accuracy_score\n",
    "import nltk"
   ]
  },
  {
   "cell_type": "code",
   "execution_count": 2,
   "id": "1534dc01",
   "metadata": {},
   "outputs": [],
   "source": [
    "# Carregando os dados\n",
    "noticias = load_files('dados', encoding = 'utf-8', decode_error = 'replace')"
   ]
  },
  {
   "cell_type": "code",
   "execution_count": 3,
   "id": "405960a8",
   "metadata": {},
   "outputs": [],
   "source": [
    "# Separando variáveis de entrada e saída\n",
    "X = noticias.data\n",
    "y = noticias.target"
   ]
  },
  {
   "cell_type": "code",
   "execution_count": 11,
   "id": "32005b54",
   "metadata": {},
   "outputs": [],
   "source": [
    "# Lista de stop words\n",
    "my_stop_words = set(stopwords.words('english'))"
   ]
  },
  {
   "cell_type": "code",
   "execution_count": 14,
   "id": "2b15694c",
   "metadata": {},
   "outputs": [],
   "source": [
    "# Divisão em treino e teste (70/30)\n",
    "X_treino, X_teste, y_treino, y_teste = train_test_split(X, y, test_size = 0.30, random_state = 75)"
   ]
  },
  {
   "cell_type": "code",
   "execution_count": 15,
   "id": "ad552086",
   "metadata": {},
   "outputs": [],
   "source": [
    "# Vetorização\n",
    "vectorizer = TfidfVectorizer(norm = None, stop_words = my_stop_words, max_features = 1000, decode_error = \"ignore\")"
   ]
  },
  {
   "cell_type": "code",
   "execution_count": 16,
   "id": "317bbe3a",
   "metadata": {},
   "outputs": [],
   "source": [
    "# Aplicamos a vetorização.\n",
    "# Observe que treinamos e aplicamos em treino e apenas aplicamos em teste\n",
    "X_treino_vectors = vectorizer.fit_transform(X_treino)\n",
    "X_teste_vectors = vectorizer.transform(X_teste)"
   ]
  },
  {
   "cell_type": "code",
   "execution_count": 17,
   "id": "a84d5758",
   "metadata": {},
   "outputs": [],
   "source": [
    "# Criando 3 modelos com 3 algoritmoos diferentes\n",
    "\n",
    "# https://scikit-learn.org/stable/modules/generated/sklearn.linear_model.LogisticRegression.html\n",
    "modelo1 = LogisticRegression(multi_class = 'multinomial', solver = 'lbfgs', random_state = 30, max_iter = 1000)\n",
    "\n",
    "# https://scikit-learn.org/stable/modules/generated/sklearn.ensemble.RandomForestClassifier.html\n",
    "modelo2 = RandomForestClassifier(n_estimators = 1000, max_depth = 100, random_state = 1)\n",
    "\n",
    "# https://scikit-learn.org/stable/modules/generated/sklearn.naive_bayes.MultinomialNB.html\n",
    "modelo3 = MultinomialNB()"
   ]
  },
  {
   "cell_type": "code",
   "execution_count": 18,
   "id": "e00ed9f4",
   "metadata": {},
   "outputs": [
    {
     "name": "stdout",
     "output_type": "stream",
     "text": [
      "\n",
      "Modelo de Votação:\n",
      "\n",
      "VotingClassifier(estimators=[('lg',\n",
      "                              LogisticRegression(max_iter=1000,\n",
      "                                                 multi_class='multinomial',\n",
      "                                                 random_state=30)),\n",
      "                             ('rf',\n",
      "                              RandomForestClassifier(max_depth=100,\n",
      "                                                     n_estimators=1000,\n",
      "                                                     random_state=1)),\n",
      "                             ('nb', MultinomialNB())],\n",
      "                 voting='soft')\n"
     ]
    }
   ],
   "source": [
    "# Lista para o resultado\n",
    "resultado = []\n",
    "\n",
    "# Iniciando o modelo de votação\n",
    "# https://scikit-learn.org/stable/modules/generated/sklearn.ensemble.VotingClassifier.html\n",
    "# https://scikit-learn.org/stable/modules/ensemble.html#voting-classifier\n",
    "voting_model = VotingClassifier(estimators = [ ('lg', modelo1), ('rf', modelo2), ('nb', modelo3) ], voting = 'soft')\n",
    "print(\"\\nModelo de Votação:\\n\")\n",
    "print(voting_model)"
   ]
  },
  {
   "cell_type": "code",
   "execution_count": 19,
   "id": "ffd0f700",
   "metadata": {},
   "outputs": [],
   "source": [
    "# Treinamento\n",
    "voting_model = voting_model.fit(X_treino_vectors, y_treino)"
   ]
  },
  {
   "cell_type": "code",
   "execution_count": 20,
   "id": "cece66ef",
   "metadata": {},
   "outputs": [],
   "source": [
    "# Previsões com dados de teste\n",
    "previsoes =  voting_model.predict(X_teste_vectors)"
   ]
  },
  {
   "cell_type": "code",
   "execution_count": 21,
   "id": "0e5fdecc",
   "metadata": {},
   "outputs": [],
   "source": [
    "# Grava o resultado\n",
    "resultado.append(accuracy_score(y_teste, previsoes))"
   ]
  },
  {
   "cell_type": "code",
   "execution_count": 22,
   "id": "a550b89d",
   "metadata": {},
   "outputs": [
    {
     "name": "stdout",
     "output_type": "stream",
     "text": [
      "\n",
      "Acurácia do Modelo: 0.9625748502994012 \n",
      "\n",
      "\n",
      "\n"
     ]
    }
   ],
   "source": [
    "# Print\n",
    "print('\\nAcurácia do Modelo:', accuracy_score(y_teste, previsoes),'\\n')\n",
    "print('\\n')"
   ]
  }
 ],
 "metadata": {
  "kernelspec": {
   "display_name": "Python 3 (ipykernel)",
   "language": "python",
   "name": "python3"
  },
  "language_info": {
   "codemirror_mode": {
    "name": "ipython",
    "version": 3
   },
   "file_extension": ".py",
   "mimetype": "text/x-python",
   "name": "python",
   "nbconvert_exporter": "python",
   "pygments_lexer": "ipython3",
   "version": "3.9.10"
  }
 },
 "nbformat": 4,
 "nbformat_minor": 5
}
